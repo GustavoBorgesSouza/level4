{
 "cells": [
  {
   "cell_type": "markdown",
   "metadata": {
    "vscode": {
     "languageId": "plaintext"
    }
   },
   "source": [
    "# Intro Python Machine Learning"
   ]
  },
  {
   "cell_type": "markdown",
   "metadata": {},
   "source": [
    "## Biblliotecas\n",
    "\n",
    "| Modulo | Descrição |\n",
    "|--------|-----------|\n",
    "| numpy  | Numpy é um acrônimo para Numerical Python, módulo fundamental para análise de dados e computação científica. Principais funções a serem utilizadas: min, max, mean, median, mode, quantile. |\n",
    "| pandas | Pandas é um acrônimo para Python Data Analysis Library. É um pacote poderoso e flexível para utilização em análise de dados. O Pandas será bastante utilizado para o tratamento dos dataframes. |\n",
    "| sympy  | Sympy é uma biblioteca voltada a matemática simbólica no Python. Esta ferramenta é utilizada para estudos de limites, derivadas e integrais. Algumas funções: limit, diff e integrate. |\n",
    "| scipy  | Ferramenta proposta para auxiliar nos problemas gerais de cálculo, probabilidade e testes de hipóteses. Principais funções que utilizaremos: binom, poisson, expon, norm, t, chi2, f. |\n",
    "| statsmodels | O statsmodels é um módulo voltado para aplicação de vários modelos estatísticos. A principal função que utilizaremos será a OLS. |\n",
    "| sklearn | O scikit-learn é uma ferramenta voltada para análise preditiva. Utilizaremos este módulo para aplicar as funções LinearRegression, PCA e Kmeans. |\n"
   ]
  },
  {
   "cell_type": "markdown",
   "metadata": {},
   "source": [
    "## Técnicas de análise\n",
    "\n",
    "\n",
    "| Técnicas de análise | Objetivos |\n",
    "|--------------------|-----------|\n",
    "| Analise Descritiva | Entender o comportamento geral dos dados |\n",
    "| Testes de hipóteses | Verificar uma afirmacão sobre os dados |\n",
    "| Analise correlacao/associacao | Analises voltadas a verificar a relacao entre duas variaveis |\n",
    "| Regressão linear | Ajustar o modelo para explicar alguma variável objetivo traçado pelo negócio |\n",
    "| Analise de series temporais | Projetar o historico de vendas ou faturamento para o proximo período |\n",
    "| Analise de componentes principais | Agrupar atributos de forma a reduzir a dimensao necessaria para ser explicada |\n",
    "| Analise de conglomerados (cluster) | Agrupar individuos conforme atributos selecionados |\n",
    "\n",
    "\n"
   ]
  },
  {
   "cell_type": "markdown",
   "metadata": {},
   "source": []
  },
  {
   "cell_type": "markdown",
   "metadata": {},
   "source": [
    "## Exemplos:"
   ]
  },
  {
   "cell_type": "markdown",
   "metadata": {},
   "source": [
    "## Ferramentas de análise descritiva e testes de hipóteses"
   ]
  },
  {
   "cell_type": "markdown",
   "metadata": {},
   "source": [
    "### Ferramentas de estatistica descritiva "
   ]
  },
  {
   "cell_type": "code",
   "execution_count": 38,
   "metadata": {},
   "outputs": [
    {
     "data": {
      "text/html": [
       "<div>\n",
       "<style scoped>\n",
       "    .dataframe tbody tr th:only-of-type {\n",
       "        vertical-align: middle;\n",
       "    }\n",
       "\n",
       "    .dataframe tbody tr th {\n",
       "        vertical-align: top;\n",
       "    }\n",
       "\n",
       "    .dataframe thead th {\n",
       "        text-align: right;\n",
       "    }\n",
       "</style>\n",
       "<table border=\"1\" class=\"dataframe\">\n",
       "  <thead>\n",
       "    <tr style=\"text-align: right;\">\n",
       "      <th></th>\n",
       "      <th>min_idh</th>\n",
       "      <th>max_idh</th>\n",
       "      <th>avg_idh</th>\n",
       "      <th>median_idh</th>\n",
       "      <th>std_idh</th>\n",
       "    </tr>\n",
       "    <tr>\n",
       "      <th>pais</th>\n",
       "      <th></th>\n",
       "      <th></th>\n",
       "      <th></th>\n",
       "      <th></th>\n",
       "      <th></th>\n",
       "    </tr>\n",
       "  </thead>\n",
       "  <tbody>\n",
       "    <tr>\n",
       "      <th>Alemanha</th>\n",
       "      <td>0.8466</td>\n",
       "      <td>0.9050</td>\n",
       "      <td>0.882880</td>\n",
       "      <td>0.8888</td>\n",
       "      <td>0.020187</td>\n",
       "    </tr>\n",
       "    <tr>\n",
       "      <th>Austrália</th>\n",
       "      <td>0.8958</td>\n",
       "      <td>0.9290</td>\n",
       "      <td>0.914507</td>\n",
       "      <td>0.9156</td>\n",
       "      <td>0.010485</td>\n",
       "    </tr>\n",
       "    <tr>\n",
       "      <th>Brasil</th>\n",
       "      <td>0.6464</td>\n",
       "      <td>0.7180</td>\n",
       "      <td>0.684653</td>\n",
       "      <td>0.6866</td>\n",
       "      <td>0.022727</td>\n",
       "    </tr>\n",
       "    <tr>\n",
       "      <th>Bélgica</th>\n",
       "      <td>0.8628</td>\n",
       "      <td>0.8860</td>\n",
       "      <td>0.876107</td>\n",
       "      <td>0.8754</td>\n",
       "      <td>0.006401</td>\n",
       "    </tr>\n",
       "    <tr>\n",
       "      <th>Canadá</th>\n",
       "      <td>0.8736</td>\n",
       "      <td>0.9080</td>\n",
       "      <td>0.890480</td>\n",
       "      <td>0.8894</td>\n",
       "      <td>0.011899</td>\n",
       "    </tr>\n",
       "    <tr>\n",
       "      <th>China</th>\n",
       "      <td>0.5598</td>\n",
       "      <td>0.6870</td>\n",
       "      <td>0.625240</td>\n",
       "      <td>0.6240</td>\n",
       "      <td>0.041928</td>\n",
       "    </tr>\n",
       "    <tr>\n",
       "      <th>Cingapura</th>\n",
       "      <td>0.7404</td>\n",
       "      <td>0.8660</td>\n",
       "      <td>0.821587</td>\n",
       "      <td>0.8282</td>\n",
       "      <td>0.037984</td>\n",
       "    </tr>\n",
       "    <tr>\n",
       "      <th>Coréia</th>\n",
       "      <td>0.8078</td>\n",
       "      <td>0.8970</td>\n",
       "      <td>0.856907</td>\n",
       "      <td>0.8588</td>\n",
       "      <td>0.029773</td>\n",
       "    </tr>\n",
       "    <tr>\n",
       "      <th>Espanha</th>\n",
       "      <td>0.8162</td>\n",
       "      <td>0.8780</td>\n",
       "      <td>0.852427</td>\n",
       "      <td>0.8534</td>\n",
       "      <td>0.019299</td>\n",
       "    </tr>\n",
       "    <tr>\n",
       "      <th>Estados Unidos</th>\n",
       "      <td>0.8886</td>\n",
       "      <td>0.9130</td>\n",
       "      <td>0.900947</td>\n",
       "      <td>0.9010</td>\n",
       "      <td>0.006558</td>\n",
       "    </tr>\n",
       "    <tr>\n",
       "      <th>França</th>\n",
       "      <td>0.8298</td>\n",
       "      <td>0.8840</td>\n",
       "      <td>0.861773</td>\n",
       "      <td>0.8644</td>\n",
       "      <td>0.018103</td>\n",
       "    </tr>\n",
       "    <tr>\n",
       "      <th>Holanda</th>\n",
       "      <td>0.8724</td>\n",
       "      <td>0.9100</td>\n",
       "      <td>0.891320</td>\n",
       "      <td>0.8884</td>\n",
       "      <td>0.012341</td>\n",
       "    </tr>\n",
       "    <tr>\n",
       "      <th>Itália</th>\n",
       "      <td>0.8070</td>\n",
       "      <td>0.8740</td>\n",
       "      <td>0.848000</td>\n",
       "      <td>0.8538</td>\n",
       "      <td>0.023729</td>\n",
       "    </tr>\n",
       "    <tr>\n",
       "      <th>Japão</th>\n",
       "      <td>0.8572</td>\n",
       "      <td>0.9010</td>\n",
       "      <td>0.881360</td>\n",
       "      <td>0.8824</td>\n",
       "      <td>0.014602</td>\n",
       "    </tr>\n",
       "    <tr>\n",
       "      <th>México</th>\n",
       "      <td>0.6916</td>\n",
       "      <td>0.7700</td>\n",
       "      <td>0.736080</td>\n",
       "      <td>0.7364</td>\n",
       "      <td>0.024646</td>\n",
       "    </tr>\n",
       "    <tr>\n",
       "      <th>Reino Unido</th>\n",
       "      <td>0.8228</td>\n",
       "      <td>0.8630</td>\n",
       "      <td>0.846440</td>\n",
       "      <td>0.8506</td>\n",
       "      <td>0.013745</td>\n",
       "    </tr>\n",
       "    <tr>\n",
       "      <th>Rússia</th>\n",
       "      <td>0.6814</td>\n",
       "      <td>0.7550</td>\n",
       "      <td>0.718520</td>\n",
       "      <td>0.7182</td>\n",
       "      <td>0.026420</td>\n",
       "    </tr>\n",
       "    <tr>\n",
       "      <th>África do Sul</th>\n",
       "      <td>0.5990</td>\n",
       "      <td>0.6328</td>\n",
       "      <td>0.612240</td>\n",
       "      <td>0.6100</td>\n",
       "      <td>0.009790</td>\n",
       "    </tr>\n",
       "    <tr>\n",
       "      <th>Índia</th>\n",
       "      <td>0.4466</td>\n",
       "      <td>0.5470</td>\n",
       "      <td>0.495680</td>\n",
       "      <td>0.4954</td>\n",
       "      <td>0.034417</td>\n",
       "    </tr>\n",
       "  </tbody>\n",
       "</table>\n",
       "</div>"
      ],
      "text/plain": [
       "                min_idh  max_idh   avg_idh  median_idh   std_idh\n",
       "pais                                                            \n",
       "Alemanha         0.8466   0.9050  0.882880      0.8888  0.020187\n",
       "Austrália        0.8958   0.9290  0.914507      0.9156  0.010485\n",
       "Brasil           0.6464   0.7180  0.684653      0.6866  0.022727\n",
       "Bélgica          0.8628   0.8860  0.876107      0.8754  0.006401\n",
       "Canadá           0.8736   0.9080  0.890480      0.8894  0.011899\n",
       "China            0.5598   0.6870  0.625240      0.6240  0.041928\n",
       "Cingapura        0.7404   0.8660  0.821587      0.8282  0.037984\n",
       "Coréia           0.8078   0.8970  0.856907      0.8588  0.029773\n",
       "Espanha          0.8162   0.8780  0.852427      0.8534  0.019299\n",
       "Estados Unidos   0.8886   0.9130  0.900947      0.9010  0.006558\n",
       "França           0.8298   0.8840  0.861773      0.8644  0.018103\n",
       "Holanda          0.8724   0.9100  0.891320      0.8884  0.012341\n",
       "Itália           0.8070   0.8740  0.848000      0.8538  0.023729\n",
       "Japão            0.8572   0.9010  0.881360      0.8824  0.014602\n",
       "México           0.6916   0.7700  0.736080      0.7364  0.024646\n",
       "Reino Unido      0.8228   0.8630  0.846440      0.8506  0.013745\n",
       "Rússia           0.6814   0.7550  0.718520      0.7182  0.026420\n",
       "África do Sul    0.5990   0.6328  0.612240      0.6100  0.009790\n",
       "Índia            0.4466   0.5470  0.495680      0.4954  0.034417"
      ]
     },
     "execution_count": 38,
     "metadata": {},
     "output_type": "execute_result"
    }
   ],
   "source": [
    "import numpy as np\n",
    "import pandas as pd\n",
    "import sympy as super\n",
    "\n",
    "# pd dataframe\n",
    "df_countries_data = pd.read_csv('dados_1997_2011_paises.csv', sep=';', encoding='latin1', decimal=',')\n",
    "\n",
    "# Descriptive statistics\n",
    "\n",
    "df_countries_data.groupby('pais')\\\n",
    "    .agg(\n",
    "        min_idh = pd.NamedAgg('idh', 'min'),\n",
    "        max_idh = pd.NamedAgg('idh', 'max'),\n",
    "        avg_idh = pd.NamedAgg('idh', 'mean'),\n",
    "        median_idh = pd.NamedAgg('idh', 'median'),\n",
    "        std_idh = pd.NamedAgg('idh', 'std'),\n",
    "    )"
   ]
  },
  {
   "cell_type": "markdown",
   "metadata": {},
   "source": [
    "### Ferramentas de probabilidade"
   ]
  },
  {
   "cell_type": "code",
   "execution_count": 39,
   "metadata": {},
   "outputs": [
    {
     "data": {
      "text/plain": [
       "np.float64(0.04698531256838376)"
      ]
     },
     "execution_count": 39,
     "metadata": {},
     "output_type": "execute_result"
    }
   ],
   "source": [
    "from scipy.stats import binom, poisson, norm\n",
    "\n",
    "# binomial\n",
    "\n",
    "n = 5\n",
    "p = 0.8\n",
    "\n",
    "binom.pmf(k =1, n = n, p = p)\n",
    "\n",
    "# poisson\n",
    "mu = 2\n",
    "poisson.pmf(k = 1, mu = mu)\n",
    "\n",
    "# normal\n",
    "\n",
    "average = 30\n",
    "std = 6\n",
    "\n",
    "norm.pdf(x = 25, loc = average, scale = std)"
   ]
  },
  {
   "cell_type": "markdown",
   "metadata": {},
   "source": [
    "### Ferramentas de cálculo"
   ]
  },
  {
   "cell_type": "code",
   "execution_count": 40,
   "metadata": {},
   "outputs": [
    {
     "data": {
      "text/latex": [
       "$\\displaystyle 2 x$"
      ],
      "text/plain": [
       "2*x"
      ]
     },
     "execution_count": 40,
     "metadata": {},
     "output_type": "execute_result"
    }
   ],
   "source": [
    "import sympy as sp\n",
    "# derivative\n",
    "x = sp.Symbol('x')\n",
    "f = x**2 \n",
    "\n",
    "sp.diff(f)"
   ]
  },
  {
   "cell_type": "markdown",
   "metadata": {},
   "source": [
    "### Ferramentas de amostragem"
   ]
  },
  {
   "cell_type": "code",
   "execution_count": 41,
   "metadata": {},
   "outputs": [
    {
     "data": {
      "text/plain": [
       "(50, 8)"
      ]
     },
     "execution_count": 41,
     "metadata": {},
     "output_type": "execute_result"
    }
   ],
   "source": [
    "df_amostra = df_countries_data.sample(n=50)\n",
    "df_amostra.shape"
   ]
  },
  {
   "cell_type": "markdown",
   "metadata": {},
   "source": [
    "### Ferramentas de testes e hipóteses"
   ]
  },
  {
   "cell_type": "code",
   "execution_count": 45,
   "metadata": {},
   "outputs": [
    {
     "data": {
      "text/plain": [
       "TtestResult(statistic=np.float64(31.467547309127106), pvalue=np.float64(2.1573861411421064e-14), df=np.int64(14))"
      ]
     },
     "execution_count": 45,
     "metadata": {},
     "output_type": "execute_result"
    }
   ],
   "source": [
    "from scipy import stats as st\n",
    "\n",
    "brazil_data = df_countries_data[df_countries_data['pais'] == 'Brasil']\n",
    "\n",
    "st.ttest_1samp(a=brazil_data['idh'], popmean=0.5)   "
   ]
  },
  {
   "cell_type": "markdown",
   "metadata": {},
   "source": [
    "## Ferramentas de preparação de dados e Machine Learning"
   ]
  },
  {
   "cell_type": "markdown",
   "metadata": {},
   "source": [
    "### Ferramentas de correlação e associação "
   ]
  },
  {
   "cell_type": "code",
   "execution_count": 50,
   "metadata": {},
   "outputs": [
    {
     "data": {
      "text/html": [
       "<div>\n",
       "<style scoped>\n",
       "    .dataframe tbody tr th:only-of-type {\n",
       "        vertical-align: middle;\n",
       "    }\n",
       "\n",
       "    .dataframe tbody tr th {\n",
       "        vertical-align: top;\n",
       "    }\n",
       "\n",
       "    .dataframe thead th {\n",
       "        text-align: right;\n",
       "    }\n",
       "</style>\n",
       "<table border=\"1\" class=\"dataframe\">\n",
       "  <thead>\n",
       "    <tr style=\"text-align: right;\">\n",
       "      <th></th>\n",
       "      <th>idh</th>\n",
       "      <th>corrupcao_indice</th>\n",
       "      <th>competitividade_indice</th>\n",
       "      <th>globalizacao_indice</th>\n",
       "    </tr>\n",
       "  </thead>\n",
       "  <tbody>\n",
       "    <tr>\n",
       "      <th>idh</th>\n",
       "      <td>1.000000</td>\n",
       "      <td>0.742528</td>\n",
       "      <td>0.576736</td>\n",
       "      <td>0.807371</td>\n",
       "    </tr>\n",
       "    <tr>\n",
       "      <th>corrupcao_indice</th>\n",
       "      <td>0.742528</td>\n",
       "      <td>1.000000</td>\n",
       "      <td>0.753907</td>\n",
       "      <td>0.807345</td>\n",
       "    </tr>\n",
       "    <tr>\n",
       "      <th>competitividade_indice</th>\n",
       "      <td>0.576736</td>\n",
       "      <td>0.753907</td>\n",
       "      <td>1.000000</td>\n",
       "      <td>0.580710</td>\n",
       "    </tr>\n",
       "    <tr>\n",
       "      <th>globalizacao_indice</th>\n",
       "      <td>0.807371</td>\n",
       "      <td>0.807345</td>\n",
       "      <td>0.580710</td>\n",
       "      <td>1.000000</td>\n",
       "    </tr>\n",
       "  </tbody>\n",
       "</table>\n",
       "</div>"
      ],
      "text/plain": [
       "                             idh  corrupcao_indice  competitividade_indice  \\\n",
       "idh                     1.000000          0.742528                0.576736   \n",
       "corrupcao_indice        0.742528          1.000000                0.753907   \n",
       "competitividade_indice  0.576736          0.753907                1.000000   \n",
       "globalizacao_indice     0.807371          0.807345                0.580710   \n",
       "\n",
       "                        globalizacao_indice  \n",
       "idh                                0.807371  \n",
       "corrupcao_indice                   0.807345  \n",
       "competitividade_indice             0.580710  \n",
       "globalizacao_indice                1.000000  "
      ]
     },
     "execution_count": 50,
     "metadata": {},
     "output_type": "execute_result"
    }
   ],
   "source": [
    "cols = ['idh', 'corrupcao_indice', 'competitividade_indice', 'globalizacao_indice']\n",
    "\n",
    "df_countries_data[cols].corr()"
   ]
  },
  {
   "cell_type": "markdown",
   "metadata": {},
   "source": [
    "### Ferramentas de análise de regressão e séries temporais\n",
    "\n",
    "Apesar do coeficiente de correlacao ser bastante informativo para analisar o relacionamento entre duas\n",
    "variaveis, correlacão nao implica causalidade. Para os casos em que seja necessário analisar se uma va-\n",
    "riável influencia/causa em alguma outra, podemos utilizar as ferramentas de análise de regressao e séries\n",
    "temporais."
   ]
  },
  {
   "cell_type": "code",
   "execution_count": 54,
   "metadata": {},
   "outputs": [
    {
     "data": {
      "text/html": [
       "<table class=\"simpletable\">\n",
       "<caption>OLS Regression Results</caption>\n",
       "<tr>\n",
       "  <th>Dep. Variable:</th>           <td>idh</td>       <th>  R-squared:         </th> <td>   0.678</td>\n",
       "</tr>\n",
       "<tr>\n",
       "  <th>Model:</th>                   <td>OLS</td>       <th>  Adj. R-squared:    </th> <td>   0.675</td>\n",
       "</tr>\n",
       "<tr>\n",
       "  <th>Method:</th>             <td>Least Squares</td>  <th>  F-statistic:       </th> <td>   197.3</td>\n",
       "</tr>\n",
       "<tr>\n",
       "  <th>Date:</th>             <td>Sun, 16 Jun 2024</td> <th>  Prob (F-statistic):</th> <td>7.53e-69</td>\n",
       "</tr>\n",
       "<tr>\n",
       "  <th>Time:</th>                 <td>17:30:58</td>     <th>  Log-Likelihood:    </th> <td>  365.76</td>\n",
       "</tr>\n",
       "<tr>\n",
       "  <th>No. Observations:</th>      <td>   285</td>      <th>  AIC:               </th> <td>  -723.5</td>\n",
       "</tr>\n",
       "<tr>\n",
       "  <th>Df Residuals:</th>          <td>   281</td>      <th>  BIC:               </th> <td>  -708.9</td>\n",
       "</tr>\n",
       "<tr>\n",
       "  <th>Df Model:</th>              <td>     3</td>      <th>                     </th>     <td> </td>   \n",
       "</tr>\n",
       "<tr>\n",
       "  <th>Covariance Type:</th>      <td>nonrobust</td>    <th>                     </th>     <td> </td>   \n",
       "</tr>\n",
       "</table>\n",
       "<table class=\"simpletable\">\n",
       "<tr>\n",
       "             <td></td>               <th>coef</th>     <th>std err</th>      <th>t</th>      <th>P>|t|</th>  <th>[0.025</th>    <th>0.975]</th>  \n",
       "</tr>\n",
       "<tr>\n",
       "  <th>Intercept</th>              <td>    0.3039</td> <td>    0.029</td> <td>   10.493</td> <td> 0.000</td> <td>    0.247</td> <td>    0.361</td>\n",
       "</tr>\n",
       "<tr>\n",
       "  <th>corrupcao_indice</th>       <td>    0.0010</td> <td>    0.000</td> <td>    2.756</td> <td> 0.006</td> <td>    0.000</td> <td>    0.002</td>\n",
       "</tr>\n",
       "<tr>\n",
       "  <th>competitividade_indice</th> <td>    0.0006</td> <td>    0.000</td> <td>    1.516</td> <td> 0.131</td> <td>   -0.000</td> <td>    0.001</td>\n",
       "</tr>\n",
       "<tr>\n",
       "  <th>globalizacao_indice</th>    <td>    0.0053</td> <td>    0.001</td> <td>   10.492</td> <td> 0.000</td> <td>    0.004</td> <td>    0.006</td>\n",
       "</tr>\n",
       "</table>\n",
       "<table class=\"simpletable\">\n",
       "<tr>\n",
       "  <th>Omnibus:</th>       <td> 0.422</td> <th>  Durbin-Watson:     </th> <td>   0.151</td>\n",
       "</tr>\n",
       "<tr>\n",
       "  <th>Prob(Omnibus):</th> <td> 0.810</td> <th>  Jarque-Bera (JB):  </th> <td>   0.414</td>\n",
       "</tr>\n",
       "<tr>\n",
       "  <th>Skew:</th>          <td> 0.092</td> <th>  Prob(JB):          </th> <td>   0.813</td>\n",
       "</tr>\n",
       "<tr>\n",
       "  <th>Kurtosis:</th>      <td> 2.963</td> <th>  Cond. No.          </th> <td>    870.</td>\n",
       "</tr>\n",
       "</table><br/><br/>Notes:<br/>[1] Standard Errors assume that the covariance matrix of the errors is correctly specified."
      ],
      "text/latex": [
       "\\begin{center}\n",
       "\\begin{tabular}{lclc}\n",
       "\\toprule\n",
       "\\textbf{Dep. Variable:}          &       idh        & \\textbf{  R-squared:         } &     0.678   \\\\\n",
       "\\textbf{Model:}                  &       OLS        & \\textbf{  Adj. R-squared:    } &     0.675   \\\\\n",
       "\\textbf{Method:}                 &  Least Squares   & \\textbf{  F-statistic:       } &     197.3   \\\\\n",
       "\\textbf{Date:}                   & Sun, 16 Jun 2024 & \\textbf{  Prob (F-statistic):} &  7.53e-69   \\\\\n",
       "\\textbf{Time:}                   &     17:30:58     & \\textbf{  Log-Likelihood:    } &    365.76   \\\\\n",
       "\\textbf{No. Observations:}       &         285      & \\textbf{  AIC:               } &    -723.5   \\\\\n",
       "\\textbf{Df Residuals:}           &         281      & \\textbf{  BIC:               } &    -708.9   \\\\\n",
       "\\textbf{Df Model:}               &           3      & \\textbf{                     } &             \\\\\n",
       "\\textbf{Covariance Type:}        &    nonrobust     & \\textbf{                     } &             \\\\\n",
       "\\bottomrule\n",
       "\\end{tabular}\n",
       "\\begin{tabular}{lcccccc}\n",
       "                                 & \\textbf{coef} & \\textbf{std err} & \\textbf{t} & \\textbf{P$> |$t$|$} & \\textbf{[0.025} & \\textbf{0.975]}  \\\\\n",
       "\\midrule\n",
       "\\textbf{Intercept}               &       0.3039  &        0.029     &    10.493  &         0.000        &        0.247    &        0.361     \\\\\n",
       "\\textbf{corrupcao\\_indice}       &       0.0010  &        0.000     &     2.756  &         0.006        &        0.000    &        0.002     \\\\\n",
       "\\textbf{competitividade\\_indice} &       0.0006  &        0.000     &     1.516  &         0.131        &       -0.000    &        0.001     \\\\\n",
       "\\textbf{globalizacao\\_indice}    &       0.0053  &        0.001     &    10.492  &         0.000        &        0.004    &        0.006     \\\\\n",
       "\\bottomrule\n",
       "\\end{tabular}\n",
       "\\begin{tabular}{lclc}\n",
       "\\textbf{Omnibus:}       &  0.422 & \\textbf{  Durbin-Watson:     } &    0.151  \\\\\n",
       "\\textbf{Prob(Omnibus):} &  0.810 & \\textbf{  Jarque-Bera (JB):  } &    0.414  \\\\\n",
       "\\textbf{Skew:}          &  0.092 & \\textbf{  Prob(JB):          } &    0.813  \\\\\n",
       "\\textbf{Kurtosis:}      &  2.963 & \\textbf{  Cond. No.          } &     870.  \\\\\n",
       "\\bottomrule\n",
       "\\end{tabular}\n",
       "%\\caption{OLS Regression Results}\n",
       "\\end{center}\n",
       "\n",
       "Notes: \\newline\n",
       " [1] Standard Errors assume that the covariance matrix of the errors is correctly specified."
      ],
      "text/plain": [
       "<class 'statsmodels.iolib.summary.Summary'>\n",
       "\"\"\"\n",
       "                            OLS Regression Results                            \n",
       "==============================================================================\n",
       "Dep. Variable:                    idh   R-squared:                       0.678\n",
       "Model:                            OLS   Adj. R-squared:                  0.675\n",
       "Method:                 Least Squares   F-statistic:                     197.3\n",
       "Date:                Sun, 16 Jun 2024   Prob (F-statistic):           7.53e-69\n",
       "Time:                        17:30:58   Log-Likelihood:                 365.76\n",
       "No. Observations:                 285   AIC:                            -723.5\n",
       "Df Residuals:                     281   BIC:                            -708.9\n",
       "Df Model:                           3                                         \n",
       "Covariance Type:            nonrobust                                         \n",
       "==========================================================================================\n",
       "                             coef    std err          t      P>|t|      [0.025      0.975]\n",
       "------------------------------------------------------------------------------------------\n",
       "Intercept                  0.3039      0.029     10.493      0.000       0.247       0.361\n",
       "corrupcao_indice           0.0010      0.000      2.756      0.006       0.000       0.002\n",
       "competitividade_indice     0.0006      0.000      1.516      0.131      -0.000       0.001\n",
       "globalizacao_indice        0.0053      0.001     10.492      0.000       0.004       0.006\n",
       "==============================================================================\n",
       "Omnibus:                        0.422   Durbin-Watson:                   0.151\n",
       "Prob(Omnibus):                  0.810   Jarque-Bera (JB):                0.414\n",
       "Skew:                           0.092   Prob(JB):                        0.813\n",
       "Kurtosis:                       2.963   Cond. No.                         870.\n",
       "==============================================================================\n",
       "\n",
       "Notes:\n",
       "[1] Standard Errors assume that the covariance matrix of the errors is correctly specified.\n",
       "\"\"\""
      ]
     },
     "execution_count": 54,
     "metadata": {},
     "output_type": "execute_result"
    }
   ],
   "source": [
    "import statsmodels.formula.api as sm\n",
    "\n",
    "regression_model = sm.ols(formula = 'idh ~ corrupcao_indice + competitividade_indice + globalizacao_indice', data=df_countries_data).fit()\n",
    "\n",
    "regression_model.summary()"
   ]
  },
  {
   "cell_type": "markdown",
   "metadata": {},
   "source": [
    "### Ferramentas de análise multivariada de dados\n",
    "\n",
    "As tecnicas que abordaremos neste topico fazem parte do grupo de \"Tecnicas de Machine Learning Nao\n",
    "Supervisionadas\". A respeito destas tecnicas, abordaremos a analise de componentes principais e analise\n",
    "de conglomerados (cluster)."
   ]
  },
  {
   "cell_type": "code",
   "execution_count": 63,
   "metadata": {},
   "outputs": [
    {
     "data": {
      "text/html": [
       "<div>\n",
       "<style scoped>\n",
       "    .dataframe tbody tr th:only-of-type {\n",
       "        vertical-align: middle;\n",
       "    }\n",
       "\n",
       "    .dataframe tbody tr th {\n",
       "        vertical-align: top;\n",
       "    }\n",
       "\n",
       "    .dataframe thead th {\n",
       "        text-align: right;\n",
       "    }\n",
       "</style>\n",
       "<table border=\"1\" class=\"dataframe\">\n",
       "  <thead>\n",
       "    <tr style=\"text-align: right;\">\n",
       "      <th></th>\n",
       "      <th>pais</th>\n",
       "      <th>avg_corruption</th>\n",
       "      <th>avg_competitiveness</th>\n",
       "      <th>avg_globalization</th>\n",
       "      <th>cluster</th>\n",
       "    </tr>\n",
       "  </thead>\n",
       "  <tbody>\n",
       "    <tr>\n",
       "      <th>0</th>\n",
       "      <td>Alemanha</td>\n",
       "      <td>79.066667</td>\n",
       "      <td>74.262667</td>\n",
       "      <td>84.034138</td>\n",
       "      <td>0</td>\n",
       "    </tr>\n",
       "    <tr>\n",
       "      <th>1</th>\n",
       "      <td>Austrália</td>\n",
       "      <td>86.800000</td>\n",
       "      <td>80.448667</td>\n",
       "      <td>81.790126</td>\n",
       "      <td>0</td>\n",
       "    </tr>\n",
       "    <tr>\n",
       "      <th>2</th>\n",
       "      <td>Brasil</td>\n",
       "      <td>36.533333</td>\n",
       "      <td>49.568000</td>\n",
       "      <td>59.332414</td>\n",
       "      <td>2</td>\n",
       "    </tr>\n",
       "    <tr>\n",
       "      <th>3</th>\n",
       "      <td>Bélgica</td>\n",
       "      <td>67.200000</td>\n",
       "      <td>69.065333</td>\n",
       "      <td>92.173351</td>\n",
       "      <td>1</td>\n",
       "    </tr>\n",
       "    <tr>\n",
       "      <th>4</th>\n",
       "      <td>Canadá</td>\n",
       "      <td>88.466667</td>\n",
       "      <td>81.897333</td>\n",
       "      <td>87.087049</td>\n",
       "      <td>0</td>\n",
       "    </tr>\n",
       "  </tbody>\n",
       "</table>\n",
       "</div>"
      ],
      "text/plain": [
       "        pais  avg_corruption  avg_competitiveness  avg_globalization  cluster\n",
       "0   Alemanha       79.066667            74.262667          84.034138        0\n",
       "1  Austrália       86.800000            80.448667          81.790126        0\n",
       "2     Brasil       36.533333            49.568000          59.332414        2\n",
       "3    Bélgica       67.200000            69.065333          92.173351        1\n",
       "4     Canadá       88.466667            81.897333          87.087049        0"
      ]
     },
     "execution_count": 63,
     "metadata": {},
     "output_type": "execute_result"
    }
   ],
   "source": [
    "from sklearn.cluster import KMeans\n",
    "\n",
    "# estattiscas descritivas\n",
    "\n",
    "data_summary = df_countries_data.groupby('pais')\\\n",
    "                                .agg(\n",
    "                                    avg_corruption = pd.NamedAgg('corrupcao_indice', 'mean'),\n",
    "                                    avg_competitiveness = pd.NamedAgg('competitividade_indice', 'mean'),\n",
    "                                    avg_globalization = pd.NamedAgg('globalizacao_indice', 'mean'),\n",
    "                                )\\\n",
    "                                .reset_index()\n",
    "\n",
    "# instanciar algortimo\n",
    "kmeans = KMeans( \n",
    "    init='random',\n",
    "    n_clusters=3,\n",
    "    n_init=10,\n",
    "    max_iter=300,\n",
    "    random_state=42\n",
    ")\n",
    "\n",
    "# aplicar o algoritmo nos dados\n",
    "kmeans.fit(data_summary[['avg_corruption', 'avg_competitiveness', 'avg_globalization']])\n",
    "\n",
    "# associar clusters aos países\n",
    "data_summary['cluster'] = kmeans.labels_\n",
    "\n",
    "# verificar resultados\n",
    "data_summary.head()\n"
   ]
  },
  {
   "cell_type": "markdown",
   "metadata": {},
   "source": [
    "### Ferramentas de limpeza e normalização de dados"
   ]
  },
  {
   "cell_type": "code",
   "execution_count": 65,
   "metadata": {},
   "outputs": [
    {
     "data": {
      "text/plain": [
       "<Axes: >"
      ]
     },
     "execution_count": 65,
     "metadata": {},
     "output_type": "execute_result"
    },
    {
     "data": {
      "image/png": "[encoded data removed]",
      "text/plain": [
       "<Figure size 640x480 with 1 Axes>"
      ]
     },
     "metadata": {},
     "output_type": "display_data"
    }
   ],
   "source": [
    "# estatistica descritiva\n",
    "data_summary = df_countries_data.groupby('pais')\\\n",
    "                                .agg(avg_pib = pd.NamedAgg('pib', 'median'))\\\n",
    "                                .reset_index()\n",
    "\n",
    "# boxplot\n",
    "data_summary[['avg_pib']].boxplot()"
   ]
  }
 ],
 "metadata": {
  "kernelspec": {
   "display_name": "py312",
   "language": "python",
   "name": "python3"
  },
  "language_info": {
   "codemirror_mode": {
    "name": "ipython",
    "version": 3
   },
   "file_extension": ".py",
   "mimetype": "text/x-python",
   "name": "python",
   "nbconvert_exporter": "python",
   "pygments_lexer": "ipython3",
   "version": "3.12.1"
  }
 },
 "nbformat": 4,
 "nbformat_minor": 2
}
