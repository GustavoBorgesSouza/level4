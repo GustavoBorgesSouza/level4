{
 "cells": [
  {
   "cell_type": "markdown",
   "metadata": {},
   "source": [
    "# ML Libs challenge\n",
    "\n",
    "1. Acessar o csv, carregar os módulos e carregar os dados."
   ]
  },
  {
   "cell_type": "code",
   "execution_count": 71,
   "metadata": {},
   "outputs": [],
   "source": [
    "import pandas as pd\n",
    "\n",
    "df_challenge = pd.read_csv('assets/dados_1997_2011_paises.csv', sep=';', encoding='latin1', decimal=',') "
   ]
  },
  {
   "cell_type": "markdown",
   "metadata": {},
   "source": [
    "2. Filtrar o país Brasil e obtenha as medidas: média, mediana, mínimo, máximo para as colunas \"idh\"\n",
    "e \"competitividade_indice\"."
   ]
  },
  {
   "cell_type": "markdown",
   "metadata": {},
   "source": []
  },
  {
   "cell_type": "code",
   "execution_count": 72,
   "metadata": {},
   "outputs": [
    {
     "data": {
      "text/html": [
       "<div>\n",
       "<style scoped>\n",
       "    .dataframe tbody tr th:only-of-type {\n",
       "        vertical-align: middle;\n",
       "    }\n",
       "\n",
       "    .dataframe tbody tr th {\n",
       "        vertical-align: top;\n",
       "    }\n",
       "\n",
       "    .dataframe thead th {\n",
       "        text-align: right;\n",
       "    }\n",
       "</style>\n",
       "<table border=\"1\" class=\"dataframe\">\n",
       "  <thead>\n",
       "    <tr style=\"text-align: right;\">\n",
       "      <th></th>\n",
       "      <th>idh</th>\n",
       "    </tr>\n",
       "  </thead>\n",
       "  <tbody>\n",
       "    <tr>\n",
       "      <th>min_idh</th>\n",
       "      <td>0.646400</td>\n",
       "    </tr>\n",
       "    <tr>\n",
       "      <th>media_idh</th>\n",
       "      <td>0.684653</td>\n",
       "    </tr>\n",
       "    <tr>\n",
       "      <th>mediana_idh</th>\n",
       "      <td>0.686600</td>\n",
       "    </tr>\n",
       "    <tr>\n",
       "      <th>max_idh</th>\n",
       "      <td>0.718000</td>\n",
       "    </tr>\n",
       "  </tbody>\n",
       "</table>\n",
       "</div>"
      ],
      "text/plain": [
       "                  idh\n",
       "min_idh      0.646400\n",
       "media_idh    0.684653\n",
       "mediana_idh  0.686600\n",
       "max_idh      0.718000"
      ]
     },
     "execution_count": 72,
     "metadata": {},
     "output_type": "execute_result"
    }
   ],
   "source": [
    "idh_bra = df_challenge[df_challenge['pais'] == 'Brasil']\\\n",
    "    .agg(\n",
    "        min_idh = pd.NamedAgg('idh', 'min'),\n",
    "        media_idh = pd.NamedAgg('idh', 'mean'),\n",
    "        mediana_idh = pd.NamedAgg('idh', 'median'),\n",
    "        max_idh = pd.NamedAgg('idh', 'max'),\n",
    "    )\n",
    "\n",
    "idh_bra"
   ]
  },
  {
   "cell_type": "code",
   "execution_count": 73,
   "metadata": {},
   "outputs": [
    {
     "data": {
      "text/html": [
       "<div>\n",
       "<style scoped>\n",
       "    .dataframe tbody tr th:only-of-type {\n",
       "        vertical-align: middle;\n",
       "    }\n",
       "\n",
       "    .dataframe tbody tr th {\n",
       "        vertical-align: top;\n",
       "    }\n",
       "\n",
       "    .dataframe thead th {\n",
       "        text-align: right;\n",
       "    }\n",
       "</style>\n",
       "<table border=\"1\" class=\"dataframe\">\n",
       "  <thead>\n",
       "    <tr style=\"text-align: right;\">\n",
       "      <th></th>\n",
       "      <th>competitividade_indice</th>\n",
       "    </tr>\n",
       "  </thead>\n",
       "  <tbody>\n",
       "    <tr>\n",
       "      <th>min_competitividade</th>\n",
       "      <td>39.980</td>\n",
       "    </tr>\n",
       "    <tr>\n",
       "      <th>media_competitividade</th>\n",
       "      <td>49.568</td>\n",
       "    </tr>\n",
       "    <tr>\n",
       "      <th>mediana_competitividade</th>\n",
       "      <td>48.580</td>\n",
       "    </tr>\n",
       "    <tr>\n",
       "      <th>max_competitividade</th>\n",
       "      <td>61.040</td>\n",
       "    </tr>\n",
       "  </tbody>\n",
       "</table>\n",
       "</div>"
      ],
      "text/plain": [
       "                         competitividade_indice\n",
       "min_competitividade                      39.980\n",
       "media_competitividade                    49.568\n",
       "mediana_competitividade                  48.580\n",
       "max_competitividade                      61.040"
      ]
     },
     "execution_count": 73,
     "metadata": {},
     "output_type": "execute_result"
    }
   ],
   "source": [
    "comp_bra = df_challenge[df_challenge['pais'] == 'Brasil']\\\n",
    "    .agg(\n",
    "        min_competitividade = pd.NamedAgg('competitividade_indice', 'min'),\n",
    "        media_competitividade = pd.NamedAgg('competitividade_indice', 'mean'),\n",
    "        mediana_competitividade = pd.NamedAgg('competitividade_indice', 'median'),\n",
    "        max_competitividade = pd.NamedAgg('competitividade_indice', 'max'),\n",
    "    )\n",
    "\n",
    "comp_bra"
   ]
  },
  {
   "cell_type": "markdown",
   "metadata": {},
   "source": [
    "3. Filtrar o país Alemanha e obter as mesmas medidas analisadas no Brasil. Discorra sobre quais\n",
    "foram as principais diferenças encontradas."
   ]
  },
  {
   "cell_type": "code",
   "execution_count": 74,
   "metadata": {},
   "outputs": [],
   "source": [
    "def getMetrics(country: str, isIdh: bool=True):\n",
    "    colName = 'idh' if isIdh else 'competitividade_indice'\n",
    "\n",
    "    result = df_challenge[df_challenge['pais'] == country]\\\n",
    "    .agg(\n",
    "        min = pd.NamedAgg(colName, 'min'),\n",
    "        media = pd.NamedAgg(colName, 'mean'),\n",
    "        mediana = pd.NamedAgg(colName, 'median'),\n",
    "        max = pd.NamedAgg(colName, 'max'),\n",
    "    )\n",
    "\n",
    "    return result"
   ]
  },
  {
   "cell_type": "code",
   "execution_count": 81,
   "metadata": {},
   "outputs": [],
   "source": [
    "comp_bra = getMetrics('Brasil', isIdh=False)"
   ]
  },
  {
   "cell_type": "code",
   "execution_count": 76,
   "metadata": {},
   "outputs": [],
   "source": [
    "idh_ale = getMetrics('Alemanha')"
   ]
  },
  {
   "cell_type": "code",
   "execution_count": 77,
   "metadata": {},
   "outputs": [],
   "source": [
    "comp_ale = getMetrics('Alemanha', False)"
   ]
  },
  {
   "cell_type": "code",
   "execution_count": 84,
   "metadata": {},
   "outputs": [
    {
     "data": {
      "text/html": [
       "<div>\n",
       "<style scoped>\n",
       "    .dataframe tbody tr th:only-of-type {\n",
       "        vertical-align: middle;\n",
       "    }\n",
       "\n",
       "    .dataframe tbody tr th {\n",
       "        vertical-align: top;\n",
       "    }\n",
       "\n",
       "    .dataframe thead th {\n",
       "        text-align: right;\n",
       "    }\n",
       "</style>\n",
       "<table border=\"1\" class=\"dataframe\">\n",
       "  <thead>\n",
       "    <tr style=\"text-align: right;\">\n",
       "      <th></th>\n",
       "      <th>competitividade_indice</th>\n",
       "      <th>competitividade_indice</th>\n",
       "    </tr>\n",
       "  </thead>\n",
       "  <tbody>\n",
       "    <tr>\n",
       "      <th>min</th>\n",
       "      <td>39.980</td>\n",
       "      <td>62.950000</td>\n",
       "    </tr>\n",
       "    <tr>\n",
       "      <th>media</th>\n",
       "      <td>49.568</td>\n",
       "      <td>74.262667</td>\n",
       "    </tr>\n",
       "    <tr>\n",
       "      <th>mediana</th>\n",
       "      <td>48.580</td>\n",
       "      <td>73.440000</td>\n",
       "    </tr>\n",
       "    <tr>\n",
       "      <th>max</th>\n",
       "      <td>61.040</td>\n",
       "      <td>87.820000</td>\n",
       "    </tr>\n",
       "  </tbody>\n",
       "</table>\n",
       "</div>"
      ],
      "text/plain": [
       "         competitividade_indice  competitividade_indice\n",
       "min                      39.980               62.950000\n",
       "media                    49.568               74.262667\n",
       "mediana                  48.580               73.440000\n",
       "max                      61.040               87.820000"
      ]
     },
     "execution_count": 84,
     "metadata": {},
     "output_type": "execute_result"
    }
   ],
   "source": [
    "pd.concat([comp_bra, comp_ale], axis=1)"
   ]
  },
  {
   "cell_type": "markdown",
   "metadata": {},
   "source": [
    "4. Encontre a derivada das seguintes funções:\n",
    "\n",
    "A. 2x2 + 5x + 3\n",
    "\n",
    "B. (5x+3).(3x-2)"
   ]
  },
  {
   "cell_type": "code",
   "execution_count": 78,
   "metadata": {},
   "outputs": [
    {
     "data": {
      "text/latex": [
       "$\\displaystyle 9$"
      ],
      "text/plain": [
       "9"
      ]
     },
     "execution_count": 78,
     "metadata": {},
     "output_type": "execute_result"
    }
   ],
   "source": [
    "import sympy as sp\n",
    "# derivative\n",
    "x = sp.Symbol('x')\n",
    "f = 2*x*2 + 5*x +3\n",
    "\n",
    "sp.diff(f)"
   ]
  },
  {
   "cell_type": "code",
   "execution_count": 79,
   "metadata": {},
   "outputs": [
    {
     "data": {
      "text/latex": [
       "$\\displaystyle 30 x - 1$"
      ],
      "text/plain": [
       "30*x - 1"
      ]
     },
     "execution_count": 79,
     "metadata": {},
     "output_type": "execute_result"
    }
   ],
   "source": [
    "x = sp.Symbol('x')\n",
    "f = (5*x+3)*(3*x-2)\n",
    "\n",
    "sp.diff(f)"
   ]
  }
 ],
 "metadata": {
  "kernelspec": {
   "display_name": "py312",
   "language": "python",
   "name": "python3"
  },
  "language_info": {
   "codemirror_mode": {
    "name": "ipython",
    "version": 3
   },
   "file_extension": ".py",
   "mimetype": "text/x-python",
   "name": "python",
   "nbconvert_exporter": "python",
   "pygments_lexer": "ipython3",
   "version": "3.12.1"
  }
 },
 "nbformat": 4,
 "nbformat_minor": 2
}
